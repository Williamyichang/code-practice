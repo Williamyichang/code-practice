{
 "cells": [
  {
   "cell_type": "markdown",
   "metadata": {},
   "source": [
    "# 🎯 Number Guessing Game"
   ]
  },
  {
   "cell_type": "code",
   "execution_count": null,
   "metadata": {},
   "outputs": [],
   "source": [
    "import random"
   ]
  },
  {
   "cell_type": "code",
   "execution_count": null,
   "metadata": {},
   "outputs": [],
   "source": [
    "def get_user_guess():\n",
    "    while True:\n",
    "        try:\n",
    "            return int(input(\"Enter your guess: \"))\n",
    "        except ValueError:\n",
    "            print(\"❌ Invalid input. Please enter a number.\")"
   ]
  },
  {
   "cell_type": "code",
   "execution_count": null,
   "metadata": {},
   "outputs": [],
   "source": [
    "def play_game():\n",
    "    target = random.randint(1, 100)\n",
    "    max_attempts = 10\n",
    "    attempts = 0\n",
    "\n",
    "    print(\"🎉 Welcome to the Number Guessing Game!\")\n",
    "    print(f\"You have {max_attempts} attempts to guess the number between 1 and 100.\")\n",
    "\n",
    "    while attempts < max_attempts:\n",
    "        guess = get_user_guess()\n",
    "        attempts += 1\n",
    "\n",
    "        if guess < target:\n",
    "            print(\"⬇️ Too low!\")\n",
    "        elif guess > target:\n",
    "            print(\"⬆️ Too high!\")\n",
    "        else:\n",
    "            print(f\"✅ Correct! You guessed it in {attempts} tries.\")\n",
    "            break\n",
    "    else:\n",
    "        print(f\"❗ You've run out of attempts. The number was {target}.\")"
   ]
  },
  {
   "cell_type": "code",
   "execution_count": null,
   "metadata": {},
   "outputs": [],
   "source": [
    "if __name__ == \"__main__\":\n",
    "    play_game()"
   ]
  }
 ],
 "metadata": {
  "kernelspec": {
   "display_name": "Python 3",
   "language": "python",
   "name": "python3"
  },
  "language_info": {
   "name": "python",
   "version": ""
  }
 },
 "nbformat": 4,
 "nbformat_minor": 2
}

 
