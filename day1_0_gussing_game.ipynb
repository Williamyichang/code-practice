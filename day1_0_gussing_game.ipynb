{
 "cells": [
  {
   "cell_type": "code",
   "execution_count": 1,
   "metadata": {},
   "outputs": [
    {
     "name": "stdout",
     "output_type": "stream",
     "text": [
      "input number: 60\n",
      "you are too high\n",
      "input number: 55\n",
      "you are too high\n",
      "input number: 50\n",
      "you are too high\n",
      "input number: 45\n",
      "you are too high\n",
      "input number: 44\n",
      "you are too high\n",
      "input number: 40\n",
      "you are too high\n",
      "input number: 30\n",
      "you are too high\n",
      "input number: 25\n",
      "you are too low\n",
      "input number: 26\n",
      "you are too low\n",
      "input number: 27\n",
      "you are too low\n",
      "input number: 28\n",
      "you are right\n"
     ]
    }
   ],
   "source": [
    "import random\n",
    "\n",
    "def guess_game():\n",
    "    \n",
    "    target_number = random.randint(0,100)\n",
    "    \n",
    "    #input_number = int(input(\"input number\"))\n",
    "    \n",
    "    while True:\n",
    "        \n",
    "    \n",
    "        input_number = int(input(\"input number: \"))\n",
    "        \n",
    "        \n",
    "        \n",
    "        if target_number == input_number:\n",
    "            print(\"you are right\")\n",
    "            break\n",
    "    \n",
    "        elif target_number >= input_number:\n",
    "            print(\"you are too low\")\n",
    "            \n",
    "        else:\n",
    "            print(\"you are too high\")\n",
    "            \n",
    "\n",
    "    \n",
    "guess_game()"
   ]
  },
  {
   "cell_type": "code",
   "execution_count": 2,
   "metadata": {},
   "outputs": [
    {
     "data": {
      "text/plain": [
       "['BPF',\n",
       " 'LOG4',\n",
       " 'NV_MAGICCONST',\n",
       " 'RECIP_BPF',\n",
       " 'Random',\n",
       " 'SG_MAGICCONST',\n",
       " 'SystemRandom',\n",
       " 'TWOPI',\n",
       " '_BuiltinMethodType',\n",
       " '_MethodType',\n",
       " '_Sequence',\n",
       " '_Set',\n",
       " '__all__',\n",
       " '__builtins__',\n",
       " '__cached__',\n",
       " '__doc__',\n",
       " '__file__',\n",
       " '__loader__',\n",
       " '__name__',\n",
       " '__package__',\n",
       " '__spec__',\n",
       " '_acos',\n",
       " '_bisect',\n",
       " '_ceil',\n",
       " '_cos',\n",
       " '_e',\n",
       " '_exp',\n",
       " '_inst',\n",
       " '_itertools',\n",
       " '_log',\n",
       " '_os',\n",
       " '_pi',\n",
       " '_random',\n",
       " '_sha512',\n",
       " '_sin',\n",
       " '_sqrt',\n",
       " '_test',\n",
       " '_test_generator',\n",
       " '_urandom',\n",
       " '_warn',\n",
       " 'betavariate',\n",
       " 'choice',\n",
       " 'choices',\n",
       " 'expovariate',\n",
       " 'gammavariate',\n",
       " 'gauss',\n",
       " 'getrandbits',\n",
       " 'getstate',\n",
       " 'lognormvariate',\n",
       " 'normalvariate',\n",
       " 'paretovariate',\n",
       " 'randint',\n",
       " 'random',\n",
       " 'randrange',\n",
       " 'sample',\n",
       " 'seed',\n",
       " 'setstate',\n",
       " 'shuffle',\n",
       " 'triangular',\n",
       " 'uniform',\n",
       " 'vonmisesvariate',\n",
       " 'weibullvariate']"
      ]
     },
     "execution_count": 2,
     "metadata": {},
     "output_type": "execute_result"
    }
   ],
   "source": [
    "dir(random)"
   ]
  },
  {
   "cell_type": "code",
   "execution_count": 4,
   "metadata": {},
   "outputs": [
    {
     "name": "stdout",
     "output_type": "stream",
     "text": [
      "input number: 20\n",
      "<class 'str'>\n"
     ]
    }
   ],
   "source": [
    "x = input(\"input number: \")\n",
    "print(type(x))"
   ]
  },
  {
   "cell_type": "code",
   "execution_count": 1,
   "metadata": {},
   "outputs": [
    {
     "name": "stdout",
     "output_type": "stream",
     "text": [
      "Please guess number: lk\n",
      "please entry digit number\n",
      "Please guess number: 20\n",
      "guess too high\n",
      "Please guess number: 19\n",
      "guess too high\n",
      "Please guess number: 15\n",
      "guess too high\n",
      "Please guess number: 10\n",
      "you are right\n"
     ]
    }
   ],
   "source": [
    "import random\n",
    "\n",
    "def guess_game():\n",
    "    \n",
    "    target_number = random.randint(0,100)\n",
    "    \n",
    "    while True:\n",
    "        \n",
    "        guess_number = input(\"Please guess number: \")\n",
    "        \n",
    "        if guess_number.isdigit():\n",
    "            \n",
    "            guess_number = int(guess_number)\n",
    "            \n",
    "            if guess_number == target_number:\n",
    "                print(\"you are right\")\n",
    "                break\n",
    "                \n",
    "            elif guess_number > target_number:\n",
    "                print(\"guess too high\")\n",
    "                \n",
    "            else:\n",
    "                print(\"guess too low\")\n",
    "        else:\n",
    "            print(\"please entry digit number\")\n",
    "        \n",
    "        \n",
    "guess_game()       "
   ]
  },
  {
   "cell_type": "code",
   "execution_count": null,
   "metadata": {},
   "outputs": [],
   "source": []
  }
 ],
 "metadata": {
  "kernelspec": {
   "display_name": "Python 3",
   "language": "python",
   "name": "python3"
  },
  "language_info": {
   "codemirror_mode": {
    "name": "ipython",
    "version": 3
   },
   "file_extension": ".py",
   "mimetype": "text/x-python",
   "name": "python",
   "nbconvert_exporter": "python",
   "pygments_lexer": "ipython3",
   "version": "3.7.7"
  }
 },
 "nbformat": 4,
 "nbformat_minor": 2
}
