{
 "cells": [
  {
   "cell_type": "code",
   "execution_count": 18,
   "metadata": {},
   "outputs": [
    {
     "name": "stdout",
     "output_type": "stream",
     "text": [
      "Input time of run 10 kilmeter: (press Enter to finish)60\n",
      "Input time of run 10 kilmeter: (press Enter to finish)80\n",
      "Input time of run 10 kilmeter: (press Enter to finish)90\n",
      "Input time of run 10 kilmeter: (press Enter to finish)\n",
      "Run 3 average time of numbers:76.67\n"
     ]
    }
   ],
   "source": [
    "def run_timing():\n",
    "    \n",
    "    total_time = 0.0\n",
    "    number_of_runs = 0\n",
    "    \n",
    "    while True:\n",
    "        run_time = input(\"Input time of run 10 kilmeter: (press Enter to finish)\")\n",
    "        \n",
    "        if run_time =='' or not run_time:\n",
    "            break\n",
    "            \n",
    "        try:\n",
    "            run_time_value = float(run_time)\n",
    "            total_time += run_time_value\n",
    "            number_of_runs += 1\n",
    "            \n",
    "        except Exception as e:\n",
    "            print(\"error happened\", e)\n",
    "            \n",
    "            \n",
    "    if number_of_runs > 1:\n",
    "        average_time = (total_time / number_of_runs)\n",
    "        \n",
    "    else:\n",
    "        average_time = 0.0\n",
    "        \n",
    "    print(\"Run\", number_of_runs, \"average time of numbers:{:.2f}\".format(average_time))\n",
    "    \n",
    "run_timing()"
   ]
  },
  {
   "cell_type": "code",
   "execution_count": 8,
   "metadata": {},
   "outputs": [
    {
     "ename": "SyntaxError",
     "evalue": "invalid syntax (<ipython-input-8-21d067bf535b>, line 6)",
     "output_type": "error",
     "traceback": [
      "\u001b[0;36m  File \u001b[0;32m\"<ipython-input-8-21d067bf535b>\"\u001b[0;36m, line \u001b[0;32m6\u001b[0m\n\u001b[0;31m    while run_time := input('input_times: '):\u001b[0m\n\u001b[0m                    ^\u001b[0m\n\u001b[0;31mSyntaxError\u001b[0m\u001b[0;31m:\u001b[0m invalid syntax\n"
     ]
    }
   ],
   "source": [
    "# above python3.8 can use :=\n",
    "\n",
    "def run_func():\n",
    "    \n",
    "    total_time = 0.0\n",
    "    run_numbers = 0\n",
    "    \n",
    "    while run_time := input('input_times: '):\n",
    "            \n",
    "            \n",
    "            try:\n",
    "                run_time_value = float(run_time)\n",
    "                total_time += run_time_value\n",
    "                run_numbers += 1\n",
    "                \n",
    "            except Exception as e:\n",
    "                print(\"error hapened\", e)\n",
    "                \n",
    "    if run_numbers > 1:\n",
    "        average_time = (total_time/run_numbers)\n",
    "        \n",
    "    else:\n",
    "        average_time = 0.0\n",
    "    \n",
    "    print(\"Run\", run_numbers, \"average time of run numbers: \", average_time)\n",
    "    \n",
    "run_func()\n",
    "            \n",
    "            "
   ]
  },
  {
   "cell_type": "code",
   "execution_count": 5,
   "metadata": {},
   "outputs": [
    {
     "name": "stdout",
     "output_type": "stream",
     "text": [
      "Input run time: 50\n",
      "Input run time: 50\n",
      "Input run time: 20\n",
      "Input run time: \n",
      "Average run time is :40.0\n"
     ]
    }
   ],
   "source": [
    "def run_func():\n",
    "    \n",
    "    total_time = 0\n",
    "    run_numbers = 0\n",
    "    \n",
    "    while True:\n",
    "        run_time = input(\"Input run time: \").strip()\n",
    "        \n",
    "        \n",
    "        if not run_time:\n",
    "            break\n",
    "            \n",
    "        run_numbers += 1\n",
    "        total_time += float(run_time)\n",
    "    \n",
    "    print(f'Average run time is :{total_time/run_numbers}')\n",
    "    \n",
    "run_func()"
   ]
  },
  {
   "cell_type": "code",
   "execution_count": null,
   "metadata": {},
   "outputs": [],
   "source": []
  }
 ],
 "metadata": {
  "kernelspec": {
   "display_name": "Python 3",
   "language": "python",
   "name": "python3"
  },
  "language_info": {
   "codemirror_mode": {
    "name": "ipython",
    "version": 3
   },
   "file_extension": ".py",
   "mimetype": "text/x-python",
   "name": "python",
   "nbconvert_exporter": "python",
   "pygments_lexer": "ipython3",
   "version": "3.7.7"
  }
 },
 "nbformat": 4,
 "nbformat_minor": 2
}
